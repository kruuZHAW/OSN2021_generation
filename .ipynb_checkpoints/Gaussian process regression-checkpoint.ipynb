{
 "cells": [
  {
   "cell_type": "markdown",
   "id": "4e829900",
   "metadata": {},
   "source": [
    "Ici on ne va pas utiliser le samplig qu'on a développé pour les copules. On va juste faire traffic.resample. Le but des régression de processus gaussien est de trouver le rpocessus sous-jacent qui se cache derrière les go-arounds: \n",
    "\n",
    "https://www.tensorflow.org/probability/examples/Gaussian_Process_Regression_In_TFP"
   ]
  }
 ],
 "metadata": {
  "kernelspec": {
   "display_name": "Python 3",
   "language": "python",
   "name": "python3"
  },
  "language_info": {
   "codemirror_mode": {
    "name": "ipython",
    "version": 3
   },
   "file_extension": ".py",
   "mimetype": "text/x-python",
   "name": "python",
   "nbconvert_exporter": "python",
   "pygments_lexer": "ipython3",
   "version": "3.9.4"
  }
 },
 "nbformat": 4,
 "nbformat_minor": 5
}
