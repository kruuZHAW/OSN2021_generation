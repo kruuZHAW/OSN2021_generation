{
 "cells": [
  {
   "cell_type": "code",
   "execution_count": 1,
   "id": "440e1837",
   "metadata": {},
   "outputs": [
    {
     "data": {
      "application/javascript": [
       "\n",
       "            setTimeout(function() {\n",
       "                var nbb_cell_id = 1;\n",
       "                var nbb_unformatted_code = \"%load_ext nb_black\\n%load_ext autoreload\\n%autoreload 2\\n%matplotlib inline\";\n",
       "                var nbb_formatted_code = \"%load_ext nb_black\\n%load_ext autoreload\\n%autoreload 2\\n%matplotlib inline\";\n",
       "                var nbb_cells = Jupyter.notebook.get_cells();\n",
       "                for (var i = 0; i < nbb_cells.length; ++i) {\n",
       "                    if (nbb_cells[i].input_prompt_number == nbb_cell_id) {\n",
       "                        if (nbb_cells[i].get_text() == nbb_unformatted_code) {\n",
       "                             nbb_cells[i].set_text(nbb_formatted_code);\n",
       "                        }\n",
       "                        break;\n",
       "                    }\n",
       "                }\n",
       "            }, 500);\n",
       "            "
      ],
      "text/plain": [
       "<IPython.core.display.Javascript object>"
      ]
     },
     "metadata": {},
     "output_type": "display_data"
    }
   ],
   "source": [
    "%load_ext nb_black\n",
    "%load_ext autoreload\n",
    "%autoreload 2\n",
    "%matplotlib inline"
   ]
  },
  {
   "cell_type": "code",
   "execution_count": 2,
   "id": "65824a7a",
   "metadata": {},
   "outputs": [
    {
     "name": "stderr",
     "output_type": "stream",
     "text": [
      "<ipython-input-2-5bd5767fab0a>:10: TqdmExperimentalWarning: Using `tqdm.autonotebook.tqdm` in notebook mode. Use `tqdm.tqdm` instead to force console mode (e.g. in jupyter console)\n",
      "  from tqdm.autonotebook import tqdm\n"
     ]
    },
    {
     "data": {
      "application/javascript": [
       "\n",
       "            setTimeout(function() {\n",
       "                var nbb_cell_id = 2;\n",
       "                var nbb_unformatted_code = \"import os\\nfrom pathlib import Path\\nimport pickle\\n\\nhome = str(Path.home())\\ndata_path = os.path.join(home, \\\"GA_generation\\\", \\\"Data\\\", \\\"distributions_along_lines.pkl\\\")\\nperp_path = os.path.join(home, \\\"GA_generation\\\", \\\"Data\\\", \\\"Normals_sampling.parquet\\\")\\n\\nimport matplotlib.pyplot as plt\\nfrom tqdm.autonotebook import tqdm\\nimport numpy as np\\nimport pandas as pd\\nimport seaborn as sns\\nimport scipy as sp\\nfrom scipy.spatial.distance import cdist\\n\\nfrom traffic.core import Traffic, Flight\\nfrom traffic.data import airports\\nfrom traffic.drawing import countries\\nimport traffic.core.geodesy as geo\\n\\nX_along_line = pd.read_pickle(data_path)\\nperpendiculars = pd.read_parquet(perp_path)\\nperpendiculars[\\\"angle\\\"] = np.arctan(perpendiculars.m)\";\n",
       "                var nbb_formatted_code = \"import os\\nfrom pathlib import Path\\nimport pickle\\n\\nhome = str(Path.home())\\ndata_path = os.path.join(home, \\\"GA_generation\\\", \\\"Data\\\", \\\"distributions_along_lines.pkl\\\")\\nperp_path = os.path.join(home, \\\"GA_generation\\\", \\\"Data\\\", \\\"Normals_sampling.parquet\\\")\\n\\nimport matplotlib.pyplot as plt\\nfrom tqdm.autonotebook import tqdm\\nimport numpy as np\\nimport pandas as pd\\nimport seaborn as sns\\nimport scipy as sp\\nfrom scipy.spatial.distance import cdist\\n\\nfrom traffic.core import Traffic, Flight\\nfrom traffic.data import airports\\nfrom traffic.drawing import countries\\nimport traffic.core.geodesy as geo\\n\\nX_along_line = pd.read_pickle(data_path)\\nperpendiculars = pd.read_parquet(perp_path)\\nperpendiculars[\\\"angle\\\"] = np.arctan(perpendiculars.m)\";\n",
       "                var nbb_cells = Jupyter.notebook.get_cells();\n",
       "                for (var i = 0; i < nbb_cells.length; ++i) {\n",
       "                    if (nbb_cells[i].input_prompt_number == nbb_cell_id) {\n",
       "                        if (nbb_cells[i].get_text() == nbb_unformatted_code) {\n",
       "                             nbb_cells[i].set_text(nbb_formatted_code);\n",
       "                        }\n",
       "                        break;\n",
       "                    }\n",
       "                }\n",
       "            }, 500);\n",
       "            "
      ],
      "text/plain": [
       "<IPython.core.display.Javascript object>"
      ]
     },
     "metadata": {},
     "output_type": "display_data"
    }
   ],
   "source": [
    "import os\n",
    "from pathlib import Path\n",
    "import pickle\n",
    "\n",
    "home = str(Path.home())\n",
    "data_path = os.path.join(home, \"GA_generation\", \"Data\", \"distributions_along_lines.pkl\")\n",
    "perp_path = os.path.join(home, \"GA_generation\", \"Data\", \"Normals_sampling.parquet\")\n",
    "\n",
    "import matplotlib.pyplot as plt\n",
    "from tqdm.autonotebook import tqdm\n",
    "import numpy as np\n",
    "import pandas as pd\n",
    "import seaborn as sns\n",
    "import scipy as sp\n",
    "from scipy.spatial.distance import cdist\n",
    "\n",
    "from traffic.core import Traffic, Flight\n",
    "from traffic.data import airports\n",
    "from traffic.drawing import countries\n",
    "import traffic.core.geodesy as geo\n",
    "\n",
    "X_along_line = pd.read_pickle(data_path)\n",
    "perpendiculars = pd.read_parquet(perp_path)\n",
    "perpendiculars[\"angle\"] = np.arctan(perpendiculars.m)"
   ]
  },
  {
   "cell_type": "code",
   "execution_count": 3,
   "id": "9bebe6d3",
   "metadata": {},
   "outputs": [
    {
     "data": {
      "application/javascript": [
       "\n",
       "            setTimeout(function() {\n",
       "                var nbb_cell_id = 3;\n",
       "                var nbb_unformatted_code = \"# Signed curvature\\ndef curvature(x, y):\\n    x_t = np.gradient(x)\\n    y_t = np.gradient(y)\\n    xx_t = np.gradient(x_t)\\n    yy_t = np.gradient(y_t)\\n\\n    return (xx_t * y_t - x_t * yy_t) / (x_t * x_t + y_t * y_t) ** (3 / 2)\\n\\n\\nfrom scipy.spatial import distance\\n\\n\\ndef energy_distance(x, y):\\n    n1 = x.shape[0]\\n    n2 = y.shape[0]\\n    a = cdist(x, y, \\\"euclidean\\\").mean()\\n    b = cdist(x, x, \\\"euclidean\\\").mean()\\n    c = cdist(y, y, \\\"euclidean\\\").mean()\\n    e = (n1 * n2 / (n1 + n2)) * (2 * a - b - c)\\n    return e\";\n",
       "                var nbb_formatted_code = \"# Signed curvature\\ndef curvature(x, y):\\n    x_t = np.gradient(x)\\n    y_t = np.gradient(y)\\n    xx_t = np.gradient(x_t)\\n    yy_t = np.gradient(y_t)\\n\\n    return (xx_t * y_t - x_t * yy_t) / (x_t * x_t + y_t * y_t) ** (3 / 2)\\n\\n\\nfrom scipy.spatial import distance\\n\\n\\ndef energy_distance(x, y):\\n    n1 = x.shape[0]\\n    n2 = y.shape[0]\\n    a = cdist(x, y, \\\"euclidean\\\").mean()\\n    b = cdist(x, x, \\\"euclidean\\\").mean()\\n    c = cdist(y, y, \\\"euclidean\\\").mean()\\n    e = (n1 * n2 / (n1 + n2)) * (2 * a - b - c)\\n    return e\";\n",
       "                var nbb_cells = Jupyter.notebook.get_cells();\n",
       "                for (var i = 0; i < nbb_cells.length; ++i) {\n",
       "                    if (nbb_cells[i].input_prompt_number == nbb_cell_id) {\n",
       "                        if (nbb_cells[i].get_text() == nbb_unformatted_code) {\n",
       "                             nbb_cells[i].set_text(nbb_formatted_code);\n",
       "                        }\n",
       "                        break;\n",
       "                    }\n",
       "                }\n",
       "            }, 500);\n",
       "            "
      ],
      "text/plain": [
       "<IPython.core.display.Javascript object>"
      ]
     },
     "metadata": {},
     "output_type": "display_data"
    }
   ],
   "source": [
    "# Signed curvature\n",
    "def curvature(x, y):\n",
    "    x_t = np.gradient(x)\n",
    "    y_t = np.gradient(y)\n",
    "    xx_t = np.gradient(x_t)\n",
    "    yy_t = np.gradient(y_t)\n",
    "\n",
    "    return (xx_t * y_t - x_t * yy_t) / (x_t * x_t + y_t * y_t) ** (3 / 2)\n",
    "\n",
    "\n",
    "from scipy.spatial import distance\n",
    "\n",
    "\n",
    "def energy_distance(x, y):\n",
    "    n1 = x.shape[0]\n",
    "    n2 = y.shape[0]\n",
    "    a = cdist(x, y, \"euclidean\").mean()\n",
    "    b = cdist(x, x, \"euclidean\").mean()\n",
    "    c = cdist(y, y, \"euclidean\").mean()\n",
    "    e = (n1 * n2 / (n1 + n2)) * (2 * a - b - c)\n",
    "    return e"
   ]
  },
  {
   "cell_type": "code",
   "execution_count": 22,
   "id": "649ff919",
   "metadata": {},
   "outputs": [
    {
     "ename": "TypeError",
     "evalue": "InvalidArgumentException : The distribution collection must have a size equal to the copula dimension",
     "output_type": "error",
     "traceback": [
      "\u001b[0;31m---------------------------------------------------------------------------\u001b[0m",
      "\u001b[0;31mTypeError\u001b[0m                                 Traceback (most recent call last)",
      "\u001b[0;32m<ipython-input-22-e4545f8a4e53>\u001b[0m in \u001b[0;36m<module>\u001b[0;34m\u001b[0m\n\u001b[1;32m     37\u001b[0m \u001b[0mestimated_copulas\u001b[0m \u001b[0;34m=\u001b[0m \u001b[0;34m[\u001b[0m\u001b[0mot\u001b[0m\u001b[0;34m.\u001b[0m\u001b[0mFittingTest\u001b[0m\u001b[0;34m.\u001b[0m\u001b[0mBestModelBIC\u001b[0m\u001b[0;34m(\u001b[0m\u001b[0mcopula_sample\u001b[0m\u001b[0;34m.\u001b[0m\u001b[0mgetMarginal\u001b[0m\u001b[0;34m(\u001b[0m\u001b[0mbloc\u001b[0m\u001b[0;34m)\u001b[0m\u001b[0;34m,\u001b[0m \u001b[0mcopulaFactories\u001b[0m\u001b[0;34m)\u001b[0m\u001b[0;34m[\u001b[0m\u001b[0;36m0\u001b[0m\u001b[0;34m]\u001b[0m \u001b[0;32mfor\u001b[0m \u001b[0mbloc\u001b[0m \u001b[0;32min\u001b[0m \u001b[0mblocs\u001b[0m\u001b[0;34m]\u001b[0m\u001b[0;34m\u001b[0m\u001b[0;34m\u001b[0m\u001b[0m\n\u001b[1;32m     38\u001b[0m \u001b[0mestimated_copula\u001b[0m \u001b[0;34m=\u001b[0m \u001b[0mot\u001b[0m\u001b[0;34m.\u001b[0m\u001b[0mComposedCopula\u001b[0m\u001b[0;34m(\u001b[0m\u001b[0mestimated_copulas\u001b[0m\u001b[0;34m)\u001b[0m\u001b[0;34m\u001b[0m\u001b[0;34m\u001b[0m\u001b[0m\n\u001b[0;32m---> 39\u001b[0;31m \u001b[0mestimated_distribution\u001b[0m \u001b[0;34m=\u001b[0m \u001b[0mot\u001b[0m\u001b[0;34m.\u001b[0m\u001b[0mComposedDistribution\u001b[0m\u001b[0;34m(\u001b[0m\u001b[0mestimated_marginals\u001b[0m\u001b[0;34m,\u001b[0m \u001b[0mestimated_copula\u001b[0m\u001b[0;34m)\u001b[0m\u001b[0;34m\u001b[0m\u001b[0;34m\u001b[0m\u001b[0m\n\u001b[0m",
      "\u001b[0;32m~/.conda/envs/myenv/lib/python3.9/site-packages/openturns/model_copula.py\u001b[0m in \u001b[0;36m__init__\u001b[0;34m(self, *args)\u001b[0m\n\u001b[1;32m  15908\u001b[0m \u001b[0;34m\u001b[0m\u001b[0m\n\u001b[1;32m  15909\u001b[0m     \u001b[0;32mdef\u001b[0m \u001b[0m__init__\u001b[0m\u001b[0;34m(\u001b[0m\u001b[0mself\u001b[0m\u001b[0;34m,\u001b[0m \u001b[0;34m*\u001b[0m\u001b[0margs\u001b[0m\u001b[0;34m)\u001b[0m\u001b[0;34m:\u001b[0m\u001b[0;34m\u001b[0m\u001b[0;34m\u001b[0m\u001b[0m\n\u001b[0;32m> 15910\u001b[0;31m         \u001b[0m_model_copula\u001b[0m\u001b[0;34m.\u001b[0m\u001b[0mComposedDistribution_swiginit\u001b[0m\u001b[0;34m(\u001b[0m\u001b[0mself\u001b[0m\u001b[0;34m,\u001b[0m \u001b[0m_model_copula\u001b[0m\u001b[0;34m.\u001b[0m\u001b[0mnew_ComposedDistribution\u001b[0m\u001b[0;34m(\u001b[0m\u001b[0;34m*\u001b[0m\u001b[0margs\u001b[0m\u001b[0;34m)\u001b[0m\u001b[0;34m)\u001b[0m\u001b[0;34m\u001b[0m\u001b[0;34m\u001b[0m\u001b[0m\n\u001b[0m\u001b[1;32m  15911\u001b[0m     \u001b[0m__swig_destroy__\u001b[0m \u001b[0;34m=\u001b[0m \u001b[0m_model_copula\u001b[0m\u001b[0;34m.\u001b[0m\u001b[0mdelete_ComposedDistribution\u001b[0m\u001b[0;34m\u001b[0m\u001b[0;34m\u001b[0m\u001b[0m\n\u001b[1;32m  15912\u001b[0m \u001b[0;34m\u001b[0m\u001b[0m\n",
      "\u001b[0;31mTypeError\u001b[0m: InvalidArgumentException : The distribution collection must have a size equal to the copula dimension"
     ]
    },
    {
     "data": {
      "application/javascript": [
       "\n",
       "            setTimeout(function() {\n",
       "                var nbb_cell_id = 22;\n",
       "                var nbb_unformatted_code = \"import openturns as ot\\nfrom sklearn import preprocessing\\nimport pyvinecopulib as pv\\nfrom scipy.interpolate import CubicSpline\\n\\n# marginals\\nsample = ot.Sample(np.array(X_along_line))\\ndimension = sample.getDimension()\\nmarginalFactories = []\\nfor factory in ot.DistributionFactory.GetContinuousUniVariateFactories():\\n    if str(factory).startswith(\\\"Histogram\\\"):\\n        # ~ non-parametric\\n        continue\\n    marginalFactories.append(factory)\\nestimated_marginals = [\\n    ot.FittingTest.BestModelBIC(sample.getMarginal(i), marginalFactories)[0]\\n    for i in range(dimension)\\n]\\nestimated_marginals\\n\\ncopula_sample = ot.Sample(sample.getSize(), sample.getDimension())\\ncopula_sample.setDescription(sample.getDescription())\\nfor index in range(sample.getDimension()):\\n    copula_sample[:, index] = estimated_marginals[index].computeCDF(sample[:, index])\\n\\nblocs = []\\nfor i in range(copula_sample.getDimension() - 1):\\n    blocs.append([i, i + 1])\\nblocs\\n\\ncopulaFactories = []\\nfor factory in ot.DistributionFactory.GetContinuousMultiVariateFactories():\\n    if not factory.build().isCopula():\\n        continue\\n    copulaFactories.append(factory)\\n\\nestimated_copulas = [ot.FittingTest.BestModelBIC(copula_sample.getMarginal(bloc), copulaFactories)[0] for bloc in blocs]\\nestimated_copula = ot.ComposedCopula(estimated_copulas)\\nestimated_distribution = ot.ComposedDistribution(estimated_marginals, estimated_copula)\";\n",
       "                var nbb_formatted_code = \"import openturns as ot\\nfrom sklearn import preprocessing\\nimport pyvinecopulib as pv\\nfrom scipy.interpolate import CubicSpline\\n\\n# marginals\\nsample = ot.Sample(np.array(X_along_line))\\ndimension = sample.getDimension()\\nmarginalFactories = []\\nfor factory in ot.DistributionFactory.GetContinuousUniVariateFactories():\\n    if str(factory).startswith(\\\"Histogram\\\"):\\n        # ~ non-parametric\\n        continue\\n    marginalFactories.append(factory)\\nestimated_marginals = [\\n    ot.FittingTest.BestModelBIC(sample.getMarginal(i), marginalFactories)[0]\\n    for i in range(dimension)\\n]\\nestimated_marginals\\n\\ncopula_sample = ot.Sample(sample.getSize(), sample.getDimension())\\ncopula_sample.setDescription(sample.getDescription())\\nfor index in range(sample.getDimension()):\\n    copula_sample[:, index] = estimated_marginals[index].computeCDF(sample[:, index])\\n\\nblocs = []\\nfor i in range(copula_sample.getDimension() - 1):\\n    blocs.append([i, i + 1])\\nblocs\\n\\ncopulaFactories = []\\nfor factory in ot.DistributionFactory.GetContinuousMultiVariateFactories():\\n    if not factory.build().isCopula():\\n        continue\\n    copulaFactories.append(factory)\\n\\nestimated_copulas = [\\n    ot.FittingTest.BestModelBIC(copula_sample.getMarginal(bloc), copulaFactories)[0]\\n    for bloc in blocs\\n]\\nestimated_copula = ot.ComposedCopula(estimated_copulas)\\nestimated_distribution = ot.ComposedDistribution(estimated_marginals, estimated_copula)\";\n",
       "                var nbb_cells = Jupyter.notebook.get_cells();\n",
       "                for (var i = 0; i < nbb_cells.length; ++i) {\n",
       "                    if (nbb_cells[i].input_prompt_number == nbb_cell_id) {\n",
       "                        if (nbb_cells[i].get_text() == nbb_unformatted_code) {\n",
       "                             nbb_cells[i].set_text(nbb_formatted_code);\n",
       "                        }\n",
       "                        break;\n",
       "                    }\n",
       "                }\n",
       "            }, 500);\n",
       "            "
      ],
      "text/plain": [
       "<IPython.core.display.Javascript object>"
      ]
     },
     "metadata": {},
     "output_type": "display_data"
    }
   ],
   "source": [
    "import openturns as ot\n",
    "from sklearn import preprocessing\n",
    "import pyvinecopulib as pv\n",
    "from scipy.interpolate import CubicSpline\n",
    "\n",
    "# marginals\n",
    "sample = ot.Sample(np.array(X_along_line))\n",
    "dimension = sample.getDimension()\n",
    "marginalFactories = []\n",
    "for factory in ot.DistributionFactory.GetContinuousUniVariateFactories():\n",
    "    if str(factory).startswith(\"Histogram\"):\n",
    "        # ~ non-parametric\n",
    "        continue\n",
    "    marginalFactories.append(factory)\n",
    "estimated_marginals = [\n",
    "    ot.FittingTest.BestModelBIC(sample.getMarginal(i), marginalFactories)[0]\n",
    "    for i in range(dimension)\n",
    "]\n",
    "estimated_marginals\n",
    "\n",
    "copula_sample = ot.Sample(sample.getSize(), sample.getDimension())\n",
    "copula_sample.setDescription(sample.getDescription())\n",
    "for index in range(sample.getDimension()):\n",
    "    copula_sample[:, index] = estimated_marginals[index].computeCDF(sample[:, index])\n",
    "\n",
    "blocs = []\n",
    "for i in range(copula_sample.getDimension() - 1):\n",
    "    blocs.append([i, i + 1])\n",
    "blocs\n",
    "\n",
    "copulaFactories = []\n",
    "for factory in ot.DistributionFactory.GetContinuousMultiVariateFactories():\n",
    "    if not factory.build().isCopula():\n",
    "        continue\n",
    "    copulaFactories.append(factory)\n",
    "\n",
    "estimated_copulas = [\n",
    "    ot.FittingTest.BestModelBIC(copula_sample.getMarginal(bloc), copulaFactories)[0]\n",
    "    for bloc in blocs\n",
    "]\n",
    "estimated_copula = ot.ComposedCopula(estimated_copulas)\n",
    "estimated_distribution = ot.ComposedDistribution(estimated_marginals, estimated_copula)"
   ]
  },
  {
   "cell_type": "code",
   "execution_count": 25,
   "id": "ddc62a51",
   "metadata": {},
   "outputs": [
    {
     "data": {
      "text/plain": [
       "58"
      ]
     },
     "execution_count": 25,
     "metadata": {},
     "output_type": "execute_result"
    },
    {
     "data": {
      "application/javascript": [
       "\n",
       "            setTimeout(function() {\n",
       "                var nbb_cell_id = 25;\n",
       "                var nbb_unformatted_code = \"estimated_copula.getDimension()\";\n",
       "                var nbb_formatted_code = \"estimated_copula.getDimension()\";\n",
       "                var nbb_cells = Jupyter.notebook.get_cells();\n",
       "                for (var i = 0; i < nbb_cells.length; ++i) {\n",
       "                    if (nbb_cells[i].input_prompt_number == nbb_cell_id) {\n",
       "                        if (nbb_cells[i].get_text() == nbb_unformatted_code) {\n",
       "                             nbb_cells[i].set_text(nbb_formatted_code);\n",
       "                        }\n",
       "                        break;\n",
       "                    }\n",
       "                }\n",
       "            }, 500);\n",
       "            "
      ],
      "text/plain": [
       "<IPython.core.display.Javascript object>"
      ]
     },
     "metadata": {},
     "output_type": "display_data"
    }
   ],
   "source": [
    "estimated_copula.getDimension()"
   ]
  },
  {
   "cell_type": "code",
   "execution_count": null,
   "id": "3c450a3e",
   "metadata": {},
   "outputs": [],
   "source": []
  }
 ],
 "metadata": {
  "kernelspec": {
   "display_name": "Python 3",
   "language": "python",
   "name": "python3"
  },
  "language_info": {
   "codemirror_mode": {
    "name": "ipython",
    "version": 3
   },
   "file_extension": ".py",
   "mimetype": "text/x-python",
   "name": "python",
   "nbconvert_exporter": "python",
   "pygments_lexer": "ipython3",
   "version": "3.9.4"
  }
 },
 "nbformat": 4,
 "nbformat_minor": 5
}
