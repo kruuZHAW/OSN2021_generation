{
 "cells": [
  {
   "cell_type": "code",
   "execution_count": 2,
   "id": "687a46e0",
   "metadata": {},
   "outputs": [
    {
     "data": {
      "application/javascript": [
       "\n",
       "            setTimeout(function() {\n",
       "                var nbb_cell_id = 2;\n",
       "                var nbb_unformatted_code = \"%load_ext nb_black\\n%load_ext autoreload\\n%autoreload 2\\n%matplotlib inline\";\n",
       "                var nbb_formatted_code = \"%load_ext nb_black\\n%load_ext autoreload\\n%autoreload 2\\n%matplotlib inline\";\n",
       "                var nbb_cells = Jupyter.notebook.get_cells();\n",
       "                for (var i = 0; i < nbb_cells.length; ++i) {\n",
       "                    if (nbb_cells[i].input_prompt_number == nbb_cell_id) {\n",
       "                        if (nbb_cells[i].get_text() == nbb_unformatted_code) {\n",
       "                             nbb_cells[i].set_text(nbb_formatted_code);\n",
       "                        }\n",
       "                        break;\n",
       "                    }\n",
       "                }\n",
       "            }, 500);\n",
       "            "
      ],
      "text/plain": [
       "<IPython.core.display.Javascript object>"
      ]
     },
     "metadata": {},
     "output_type": "display_data"
    }
   ],
   "source": [
    "%load_ext nb_black\n",
    "%load_ext autoreload\n",
    "%autoreload 2\n",
    "%matplotlib inline"
   ]
  },
  {
   "cell_type": "code",
   "execution_count": 4,
   "id": "d1596dd9",
   "metadata": {},
   "outputs": [
    {
     "data": {
      "application/javascript": [
       "\n",
       "            setTimeout(function() {\n",
       "                var nbb_cell_id = 4;\n",
       "                var nbb_unformatted_code = \"import os\\nfrom pathlib import Path\\nimport pickle\\n\\nimport matplotlib.pyplot as plt\\nfrom tqdm.autonotebook import tqdm\\nimport numpy as np\\nimport pandas as pd\\nimport seaborn as sns\\nimport scipy as sp\\nfrom scipy.spatial.distance import cdist\\n\\nfrom traffic.core import Traffic, Flight\\nfrom traffic.data import airports\\nfrom traffic.drawing import countries\\nimport traffic.core.geodesy as geo\\n\\nX_not_sampled = pd.read_pickle(\\\"Data/X_raw.pkl\\\")\\nReal = pd.read_pickle(\\\"Data/distributions_along_lines.pkl\\\")\\n\\n# Generated\\nVines_samp = pd.read_pickle(\\\"Data/generated_vines_and_sampling.pkl\\\")\\nMvn_samp = pd.read_pickle(\\\"Data/generated_MVN_and_sampling.pkl\\\")\\nGm_samp = pd.read_pickle(\\\"Data/generated_GM_and_sampling.pkl\\\")\\nMvn_Wsamp = pd.read_pickle(\\\"Data/generated_MVN_without_sampling.pkl\\\")\\nGm_Wsamp = pd.read_pickle(\\\"Data/generated_GM_without_sampling.pkl\\\")\\nVines_Wsamp = pd.read_pickle(\\\"Data/generated_vines_without_sampling.pkl\\\")\\n\\n# traffic resampled\\nt_resampled = Traffic.from_file(\\\"Data/GA_resampled.parquet\\\")\\nfeatures = [\\\"x\\\", \\\"y\\\"]\\nX_sampled = np.stack(list(f.data[features].values.ravel() for f in t_resampled))\\n\\n# Normals for sampling\\nperpendiculars = pd.read_parquet(\\\"Data/Normals_sampling.parquet\\\")\\nperpendiculars[\\\"angle\\\"] = np.arctan(perpendiculars.m)\";\n",
       "                var nbb_formatted_code = \"import os\\nfrom pathlib import Path\\nimport pickle\\n\\nimport matplotlib.pyplot as plt\\nfrom tqdm.autonotebook import tqdm\\nimport numpy as np\\nimport pandas as pd\\nimport seaborn as sns\\nimport scipy as sp\\nfrom scipy.spatial.distance import cdist\\n\\nfrom traffic.core import Traffic, Flight\\nfrom traffic.data import airports\\nfrom traffic.drawing import countries\\nimport traffic.core.geodesy as geo\\n\\nX_not_sampled = pd.read_pickle(\\\"Data/X_raw.pkl\\\")\\nReal = pd.read_pickle(\\\"Data/distributions_along_lines.pkl\\\")\\n\\n# Generated\\nVines_samp = pd.read_pickle(\\\"Data/generated_vines_and_sampling.pkl\\\")\\nMvn_samp = pd.read_pickle(\\\"Data/generated_MVN_and_sampling.pkl\\\")\\nGm_samp = pd.read_pickle(\\\"Data/generated_GM_and_sampling.pkl\\\")\\nMvn_Wsamp = pd.read_pickle(\\\"Data/generated_MVN_without_sampling.pkl\\\")\\nGm_Wsamp = pd.read_pickle(\\\"Data/generated_GM_without_sampling.pkl\\\")\\nVines_Wsamp = pd.read_pickle(\\\"Data/generated_vines_without_sampling.pkl\\\")\\n\\n# traffic resampled\\nt_resampled = Traffic.from_file(\\\"Data/GA_resampled.parquet\\\")\\nfeatures = [\\\"x\\\", \\\"y\\\"]\\nX_sampled = np.stack(list(f.data[features].values.ravel() for f in t_resampled))\\n\\n# Normals for sampling\\nperpendiculars = pd.read_parquet(\\\"Data/Normals_sampling.parquet\\\")\\nperpendiculars[\\\"angle\\\"] = np.arctan(perpendiculars.m)\";\n",
       "                var nbb_cells = Jupyter.notebook.get_cells();\n",
       "                for (var i = 0; i < nbb_cells.length; ++i) {\n",
       "                    if (nbb_cells[i].input_prompt_number == nbb_cell_id) {\n",
       "                        if (nbb_cells[i].get_text() == nbb_unformatted_code) {\n",
       "                             nbb_cells[i].set_text(nbb_formatted_code);\n",
       "                        }\n",
       "                        break;\n",
       "                    }\n",
       "                }\n",
       "            }, 500);\n",
       "            "
      ],
      "text/plain": [
       "<IPython.core.display.Javascript object>"
      ]
     },
     "metadata": {},
     "output_type": "display_data"
    }
   ],
   "source": [
    "import os\n",
    "from pathlib import Path\n",
    "import pickle\n",
    "\n",
    "import matplotlib.pyplot as plt\n",
    "from tqdm.autonotebook import tqdm\n",
    "import numpy as np\n",
    "import pandas as pd\n",
    "import seaborn as sns\n",
    "import scipy as sp\n",
    "from scipy.spatial.distance import cdist\n",
    "\n",
    "from traffic.core import Traffic, Flight\n",
    "from traffic.data import airports\n",
    "from traffic.drawing import countries\n",
    "import traffic.core.geodesy as geo\n",
    "\n",
    "X_not_sampled = pd.read_pickle(\"Data/X_raw.pkl\")\n",
    "Real = pd.read_pickle(\"Data/distributions_along_lines.pkl\")\n",
    "\n",
    "# Generated\n",
    "Vines_samp = pd.read_pickle(\"Data/generated_vines_and_sampling.pkl\")\n",
    "Mvn_samp = pd.read_pickle(\"Data/generated_MVN_and_sampling.pkl\")\n",
    "Gm_samp = pd.read_pickle(\"Data/generated_GM_and_sampling.pkl\")\n",
    "Mvn_Wsamp = pd.read_pickle(\"Data/generated_MVN_without_sampling.pkl\")\n",
    "Gm_Wsamp = pd.read_pickle(\"Data/generated_GM_without_sampling.pkl\")\n",
    "Vines_Wsamp = pd.read_pickle(\"Data/generated_vines_without_sampling.pkl\")\n",
    "\n",
    "# traffic resampled\n",
    "t_resampled = Traffic.from_file(\"Data/GA_resampled.parquet\")\n",
    "features = [\"x\", \"y\"]\n",
    "X_sampled = np.stack(list(f.data[features].values.ravel() for f in t_resampled))\n",
    "\n",
    "# Normals for sampling\n",
    "perpendiculars = pd.read_parquet(\"Data/Normals_sampling.parquet\")\n",
    "perpendiculars[\"angle\"] = np.arctan(perpendiculars.m)"
   ]
  },
  {
   "cell_type": "code",
   "execution_count": 5,
   "id": "ae3a4c60",
   "metadata": {},
   "outputs": [
    {
     "data": {
      "application/javascript": [
       "\n",
       "            setTimeout(function() {\n",
       "                var nbb_cell_id = 5;\n",
       "                var nbb_unformatted_code = \"from scipy.spatial import distance\\n\\ndef energy_distance(x, y):\\n    n1 = x.shape[0]\\n    n2 = y.shape[0]\\n    a = cdist(x, y, \\\"euclidean\\\").mean()\\n    b = cdist(x, x, \\\"euclidean\\\").mean()\\n    c = cdist(y, y, \\\"euclidean\\\").mean()\\n    e = (n1 * n2 / (n1 + n2)) * (2 * a - b - c)\\n    return e\";\n",
       "                var nbb_formatted_code = \"from scipy.spatial import distance\\n\\n\\ndef energy_distance(x, y):\\n    n1 = x.shape[0]\\n    n2 = y.shape[0]\\n    a = cdist(x, y, \\\"euclidean\\\").mean()\\n    b = cdist(x, x, \\\"euclidean\\\").mean()\\n    c = cdist(y, y, \\\"euclidean\\\").mean()\\n    e = (n1 * n2 / (n1 + n2)) * (2 * a - b - c)\\n    return e\";\n",
       "                var nbb_cells = Jupyter.notebook.get_cells();\n",
       "                for (var i = 0; i < nbb_cells.length; ++i) {\n",
       "                    if (nbb_cells[i].input_prompt_number == nbb_cell_id) {\n",
       "                        if (nbb_cells[i].get_text() == nbb_unformatted_code) {\n",
       "                             nbb_cells[i].set_text(nbb_formatted_code);\n",
       "                        }\n",
       "                        break;\n",
       "                    }\n",
       "                }\n",
       "            }, 500);\n",
       "            "
      ],
      "text/plain": [
       "<IPython.core.display.Javascript object>"
      ]
     },
     "metadata": {},
     "output_type": "display_data"
    }
   ],
   "source": [
    "from scipy.spatial import distance\n",
    "\n",
    "\n",
    "def energy_distance(x, y):\n",
    "    n1 = x.shape[0]\n",
    "    n2 = y.shape[0]\n",
    "    a = cdist(x, y, \"euclidean\").mean()\n",
    "    b = cdist(x, x, \"euclidean\").mean()\n",
    "    c = cdist(y, y, \"euclidean\").mean()\n",
    "    e = (n1 * n2 / (n1 + n2)) * (2 * a - b - c)\n",
    "    return e"
   ]
  },
  {
   "cell_type": "code",
   "execution_count": 8,
   "id": "06654af9",
   "metadata": {},
   "outputs": [
    {
     "data": {
      "application/javascript": [
       "\n",
       "            setTimeout(function() {\n",
       "                var nbb_cell_id = 8;\n",
       "                var nbb_unformatted_code = \"def inverse_sampling(df):\\n    n_gen = df.shape[0]\\n    n_feat = df.shape[1]\\n    res = np.zeros((n_gen, n_feat*2))\\n    res[:,0::2] = np.array(df) * np.array([np.cos(perpendiculars.angle.values),] * n_gen) + np.array(\\n    [perpendiculars.x.values,] * n_gen\\n    )\\n    res[:,1::2] = perpendiculars.m.values * res[:,0::2] + perpendiculars.p.values\\n\\n    return res\";\n",
       "                var nbb_formatted_code = \"def inverse_sampling(df):\\n    n_gen = df.shape[0]\\n    n_feat = df.shape[1]\\n    res = np.zeros((n_gen, n_feat * 2))\\n    res[:, 0::2] = np.array(df) * np.array(\\n        [np.cos(perpendiculars.angle.values),] * n_gen\\n    ) + np.array([perpendiculars.x.values,] * n_gen)\\n    res[:, 1::2] = perpendiculars.m.values * res[:, 0::2] + perpendiculars.p.values\\n\\n    return res\";\n",
       "                var nbb_cells = Jupyter.notebook.get_cells();\n",
       "                for (var i = 0; i < nbb_cells.length; ++i) {\n",
       "                    if (nbb_cells[i].input_prompt_number == nbb_cell_id) {\n",
       "                        if (nbb_cells[i].get_text() == nbb_unformatted_code) {\n",
       "                             nbb_cells[i].set_text(nbb_formatted_code);\n",
       "                        }\n",
       "                        break;\n",
       "                    }\n",
       "                }\n",
       "            }, 500);\n",
       "            "
      ],
      "text/plain": [
       "<IPython.core.display.Javascript object>"
      ]
     },
     "metadata": {},
     "output_type": "display_data"
    }
   ],
   "source": [
    "def inverse_sampling(df):\n",
    "    n_gen = df.shape[0]\n",
    "    n_feat = df.shape[1]\n",
    "    res = np.zeros((n_gen, n_feat*2))\n",
    "    res[:,0::2] = np.array(df) * np.array([np.cos(perpendiculars.angle.values),] * n_gen) + np.array(\n",
    "    [perpendiculars.x.values,] * n_gen\n",
    "    )\n",
    "    res[:,1::2] = perpendiculars.m.values * res[:,0::2] + perpendiculars.p.values\n",
    "    return res\n"
   ]
  },
  {
   "cell_type": "code",
   "execution_count": 26,
   "id": "3bc03a40",
   "metadata": {},
   "outputs": [
    {
     "name": "stdout",
     "output_type": "stream",
     "text": [
      "3.376426585163\n",
      "4.2951681744212475\n",
      "17.472542935898275\n"
     ]
    },
    {
     "data": {
      "application/javascript": [
       "\n",
       "            setTimeout(function() {\n",
       "                var nbb_cell_id = 26;\n",
       "                var nbb_unformatted_code = \"from sklearn.preprocessing import StandardScaler\\n\\nx = StandardScaler().fit_transform(Real)\\ny1 = StandardScaler().fit_transform(Gm_samp)\\ny2 = StandardScaler().fit_transform(Vines_samp)\\ny3 = StandardScaler().fit_transform(Mvn_samp)\\nprint(energy_distance(x, y1))\\nprint(energy_distance(x, y2))\\nprint(energy_distance(x, y3))\";\n",
       "                var nbb_formatted_code = \"from sklearn.preprocessing import StandardScaler\\n\\nx = StandardScaler().fit_transform(Real)\\ny1 = StandardScaler().fit_transform(Gm_samp)\\ny2 = StandardScaler().fit_transform(Vines_samp)\\ny3 = StandardScaler().fit_transform(Mvn_samp)\\nprint(energy_distance(x, y1))\\nprint(energy_distance(x, y2))\\nprint(energy_distance(x, y3))\";\n",
       "                var nbb_cells = Jupyter.notebook.get_cells();\n",
       "                for (var i = 0; i < nbb_cells.length; ++i) {\n",
       "                    if (nbb_cells[i].input_prompt_number == nbb_cell_id) {\n",
       "                        if (nbb_cells[i].get_text() == nbb_unformatted_code) {\n",
       "                             nbb_cells[i].set_text(nbb_formatted_code);\n",
       "                        }\n",
       "                        break;\n",
       "                    }\n",
       "                }\n",
       "            }, 500);\n",
       "            "
      ],
      "text/plain": [
       "<IPython.core.display.Javascript object>"
      ]
     },
     "metadata": {},
     "output_type": "display_data"
    }
   ],
   "source": [
    "from sklearn.preprocessing import StandardScaler\n",
    "\n",
    "x = StandardScaler().fit_transform(Real)\n",
    "y1 = StandardScaler().fit_transform(Gm_samp)\n",
    "y2 = StandardScaler().fit_transform(Vines_samp)\n",
    "y3 = StandardScaler().fit_transform(Mvn_samp)\n",
    "print(energy_distance(x, y1))\n",
    "print(energy_distance(x, y2))\n",
    "print(energy_distance(x, y3))"
   ]
  },
  {
   "cell_type": "markdown",
   "id": "0c2994ab",
   "metadata": {},
   "source": [
    "Pour faire le test statistique :\n",
    "- On calcule e0, la e-distance entre X et Y\n",
    "- On choisit le nombre d'échantillonage du boostrap B, et les tailles des échantillons n_i, et  on pose ek = 0\n",
    "- Pour chaque échantillonnage, on tire n_i observations dans la matrice concaténée [X,Y]\n",
    "- On calcule e[b] pour léchantillonage, et si e[b] > e0, alors on incrémente ek\n",
    "- La p-valeur vaut (ek+1)/(B+1) (probabilité de rejeter l'hypothèse nulle alors qu'elle est vraie, ie proba de se retrouver dans les queues de la distribution de H0, ie probabilité sous H0 d'observer une valeur encore plus extrême que celle observée)\n",
    "\n",
    "Le dernier point est logique. On observe la statistique de test e0. On veut savoir si, sous l'hypothèse nulle, elle est considéreée comme improbable pour pas. Donc quelle est la probabilité d'obtenir une valeur encore plus grande que celle de e0. Cette probabilité est estimée par le bootstrap, en considérant que X et Y viennent de la même distribution. On calcule alors plusieurs fois e[b], et on compte le nombre de fois où on a effectivement une valeur plus grande que e0. On obtient alors une approximation de la probabilité d'obtenir une valeur plus grande que e0, si on considère que X et Y sont identiquement distribués.\n",
    "\n",
    "La question se pose alors de l'estimation de cette probabilité par le bootstrap. Si X et Y ne sont pas ID, la probabilité estimée est-elle toujours vérifiée ? Voir the permutation test approach\n",
    "outlined e.g. by Efron (1993, Chapter 15)\n",
    "\n",
    "!!! Attention dans cette version on fait du bootstrap avec remise, contrairement au papier\n",
    "\n",
    "La taille de chaque bootstrap est la taille totale du dataset pooled. Pendant l'étape de bootstrap l'échantillon formé 1 est de taille n1 et l'échantillon 2 de taille n2"
   ]
  },
  {
   "cell_type": "code",
   "execution_count": 69,
   "id": "89e1dfaa",
   "metadata": {},
   "outputs": [
    {
     "data": {
      "application/vnd.jupyter.widget-view+json": {
       "model_id": "76264fe4e86a4bb89bd312e2aa3499e7",
       "version_major": 2,
       "version_minor": 0
      },
      "text/plain": [
       "  0%|          | 0/2000 [00:00<?, ?it/s]"
      ]
     },
     "metadata": {},
     "output_type": "display_data"
    },
    {
     "data": {
      "text/plain": [
       "(9041.409159639383, 0.9435282358820589)"
      ]
     },
     "execution_count": 69,
     "metadata": {},
     "output_type": "execute_result"
    },
    {
     "data": {
      "application/javascript": [
       "\n",
       "            setTimeout(function() {\n",
       "                var nbb_cell_id = 69;\n",
       "                var nbb_unformatted_code = \"dataset1 = X_sampled\\ndataset2 = inverse_sampling(Vines_samp)\\nB = 2000\\n\\n\\ndef Etest(dataset1, dataset2, B):\\n    n1 = len(dataset1)\\n    n2 = len(dataset2)\\n    ek = 0\\n    e0 = energy_distance(dataset1, dataset2)\\n    pop = np.array(pd.concat([dataset1, dataset2], ignore_index=True))\\n    for i in tqdm(range(B)):\\n        np.random.shuffle(pop)\\n        eb = energy_distance(pop[:n1, :], pop[n1:, :])\\n        if eb > e0:\\n            ek += 1\\n\\n    return e0, (ek + 1) / (B + 1)\\n\\n\\nEtest(pd.DataFrame(dataset1), pd.DataFrame(dataset2), B)\";\n",
       "                var nbb_formatted_code = \"dataset1 = X_sampled\\ndataset2 = inverse_sampling(Vines_samp)\\nB = 2000\\n\\n\\ndef Etest(dataset1, dataset2, B):\\n    n1 = len(dataset1)\\n    n2 = len(dataset2)\\n    ek = 0\\n    e0 = energy_distance(dataset1, dataset2)\\n    pop = np.array(pd.concat([dataset1, dataset2], ignore_index=True))\\n    for i in tqdm(range(B)):\\n        np.random.shuffle(pop)\\n        eb = energy_distance(pop[:n1, :], pop[n1:, :])\\n        if eb > e0:\\n            ek += 1\\n\\n    return e0, (ek + 1) / (B + 1)\\n\\n\\nEtest(pd.DataFrame(dataset1), pd.DataFrame(dataset2), B)\";\n",
       "                var nbb_cells = Jupyter.notebook.get_cells();\n",
       "                for (var i = 0; i < nbb_cells.length; ++i) {\n",
       "                    if (nbb_cells[i].input_prompt_number == nbb_cell_id) {\n",
       "                        if (nbb_cells[i].get_text() == nbb_unformatted_code) {\n",
       "                             nbb_cells[i].set_text(nbb_formatted_code);\n",
       "                        }\n",
       "                        break;\n",
       "                    }\n",
       "                }\n",
       "            }, 500);\n",
       "            "
      ],
      "text/plain": [
       "<IPython.core.display.Javascript object>"
      ]
     },
     "metadata": {},
     "output_type": "display_data"
    }
   ],
   "source": [
    "dataset1 = X_sampled\n",
    "dataset2 = inverse_sampling(Bm_samp)\n",
    "B = 2000\n",
    "\n",
    "\n",
    "def Etest(dataset1, dataset2, B):\n",
    "    n1 = len(dataset1)\n",
    "    n2 = len(dataset2)\n",
    "    ek = 0\n",
    "    e0 = energy_distance(dataset1, dataset2)\n",
    "    pop = np.array(pd.concat([dataset1, dataset2], ignore_index=True))\n",
    "    for i in tqdm(range(B)):\n",
    "        np.random.shuffle(pop)\n",
    "        eb = energy_distance(pop[:n1, :], pop[n1:, :])\n",
    "        if eb > e0:\n",
    "            ek += 1\n",
    "\n",
    "    return e0, (ek + 1) / (B + 1)\n",
    "\n",
    "\n",
    "Etest(pd.DataFrame(dataset1), pd.DataFrame(dataset2), B)"
   ]
  },
  {
   "cell_type": "code",
   "execution_count": 72,
   "id": "5e047908",
   "metadata": {},
   "outputs": [
    {
     "data": {
      "application/vnd.jupyter.widget-view+json": {
       "model_id": "ad96016a278f4d16b0eb6eb987bfa0d3",
       "version_major": 2,
       "version_minor": 0
      },
      "text/plain": [
       "  0%|          | 0/2000 [00:00<?, ?it/s]"
      ]
     },
     "metadata": {},
     "output_type": "display_data"
    },
    {
     "name": "stdout",
     "output_type": "stream",
     "text": [
      "(5487.7183758251795, 1.0)\n"
     ]
    },
    {
     "data": {
      "application/vnd.jupyter.widget-view+json": {
       "model_id": "0ee5c0b4514847c69b51a2324f351483",
       "version_major": 2,
       "version_minor": 0
      },
      "text/plain": [
       "  0%|          | 0/2000 [00:00<?, ?it/s]"
      ]
     },
     "metadata": {},
     "output_type": "display_data"
    },
    {
     "name": "stdout",
     "output_type": "stream",
     "text": [
      "(9041.409159639383, 0.9465267366316842)\n"
     ]
    },
    {
     "data": {
      "application/vnd.jupyter.widget-view+json": {
       "model_id": "ec658d1930564455becd68288aa461c1",
       "version_major": 2,
       "version_minor": 0
      },
      "text/plain": [
       "  0%|          | 0/2000 [00:00<?, ?it/s]"
      ]
     },
     "metadata": {},
     "output_type": "display_data"
    },
    {
     "name": "stdout",
     "output_type": "stream",
     "text": [
      "(48076.605877948365, 0.010494752623688156) \n",
      "\n"
     ]
    },
    {
     "data": {
      "application/vnd.jupyter.widget-view+json": {
       "model_id": "33351d86d50840ada33e8197bc8d338d",
       "version_major": 2,
       "version_minor": 0
      },
      "text/plain": [
       "  0%|          | 0/2000 [00:00<?, ?it/s]"
      ]
     },
     "metadata": {},
     "output_type": "display_data"
    },
    {
     "name": "stdout",
     "output_type": "stream",
     "text": [
      "(9208.959841907183, 1.0)\n"
     ]
    },
    {
     "data": {
      "application/vnd.jupyter.widget-view+json": {
       "model_id": "5fd8da84f0874266b0206c968e3efa79",
       "version_major": 2,
       "version_minor": 0
      },
      "text/plain": [
       "  0%|          | 0/2000 [00:00<?, ?it/s]"
      ]
     },
     "metadata": {},
     "output_type": "display_data"
    },
    {
     "name": "stdout",
     "output_type": "stream",
     "text": [
      "(36565.28149000713, 0.18490754622688654)\n"
     ]
    },
    {
     "data": {
      "application/vnd.jupyter.widget-view+json": {
       "model_id": "1739a682bdcf41df9ffc49526f514b84",
       "version_major": 2,
       "version_minor": 0
      },
      "text/plain": [
       "  0%|          | 0/2000 [00:00<?, ?it/s]"
      ]
     },
     "metadata": {},
     "output_type": "display_data"
    },
    {
     "name": "stdout",
     "output_type": "stream",
     "text": [
      "(53731.40587115893, 0.04997501249375312)\n"
     ]
    },
    {
     "data": {
      "application/javascript": [
       "\n",
       "            setTimeout(function() {\n",
       "                var nbb_cell_id = 72;\n",
       "                var nbb_unformatted_code = \"print(Etest(pd.DataFrame(X_sampled), pd.DataFrame(inverse_sampling(Gm_samp)), B))\\nprint(Etest(pd.DataFrame(X_sampled), pd.DataFrame(inverse_sampling(Vines_samp)), B))\\nprint(Etest(pd.DataFrame(X_sampled), pd.DataFrame(inverse_sampling(Mvn_samp)), B), \\\"\\\\n\\\")\\n\\nprint(Etest(pd.DataFrame(X_not_sampled), pd.DataFrame(Gm_Wsamp), B))\\nprint(Etest(pd.DataFrame(X_not_sampled), pd.DataFrame(Vines_Wsamp), B))\\nprint(Etest(pd.DataFrame(X_not_sampled), pd.DataFrame(Mvn_Wsamp), B))\";\n",
       "                var nbb_formatted_code = \"print(Etest(pd.DataFrame(X_sampled), pd.DataFrame(inverse_sampling(Gm_samp)), B))\\nprint(Etest(pd.DataFrame(X_sampled), pd.DataFrame(inverse_sampling(Vines_samp)), B))\\nprint(Etest(pd.DataFrame(X_sampled), pd.DataFrame(inverse_sampling(Mvn_samp)), B), \\\"\\\\n\\\")\\n\\nprint(Etest(pd.DataFrame(X_not_sampled), pd.DataFrame(Gm_Wsamp), B))\\nprint(Etest(pd.DataFrame(X_not_sampled), pd.DataFrame(Vines_Wsamp), B))\\nprint(Etest(pd.DataFrame(X_not_sampled), pd.DataFrame(Mvn_Wsamp), B))\";\n",
       "                var nbb_cells = Jupyter.notebook.get_cells();\n",
       "                for (var i = 0; i < nbb_cells.length; ++i) {\n",
       "                    if (nbb_cells[i].input_prompt_number == nbb_cell_id) {\n",
       "                        if (nbb_cells[i].get_text() == nbb_unformatted_code) {\n",
       "                             nbb_cells[i].set_text(nbb_formatted_code);\n",
       "                        }\n",
       "                        break;\n",
       "                    }\n",
       "                }\n",
       "            }, 500);\n",
       "            "
      ],
      "text/plain": [
       "<IPython.core.display.Javascript object>"
      ]
     },
     "metadata": {},
     "output_type": "display_data"
    }
   ],
   "source": [
    "print(Etest(pd.DataFrame(X_sampled), pd.DataFrame(inverse_sampling(Gm_samp)), B))\n",
    "print(Etest(pd.DataFrame(X_sampled), pd.DataFrame(inverse_sampling(Vines_samp)), B))\n",
    "print(Etest(pd.DataFrame(X_sampled), pd.DataFrame(inverse_sampling(Mvn_samp)), B), \"\\n\")\n",
    "\n",
    "print(Etest(pd.DataFrame(X_not_sampled), pd.DataFrame(Gm_Wsamp), B))\n",
    "print(Etest(pd.DataFrame(X_not_sampled), pd.DataFrame(Vines_Wsamp), B))\n",
    "print(Etest(pd.DataFrame(X_not_sampled), pd.DataFrame(Mvn_Wsamp), B))"
   ]
  },
  {
   "cell_type": "code",
   "execution_count": 28,
   "id": "5db4609e",
   "metadata": {},
   "outputs": [
    {
     "name": "stdout",
     "output_type": "stream",
     "text": [
      "5487.7183758251795\n",
      "9041.409159639383\n",
      "48076.605877948365 \n",
      "\n",
      "9208.959841907183\n",
      "36565.28149000713\n",
      "53731.40587115893\n"
     ]
    },
    {
     "data": {
      "application/javascript": [
       "\n",
       "            setTimeout(function() {\n",
       "                var nbb_cell_id = 28;\n",
       "                var nbb_unformatted_code = \"print(energy_distance(X_sampled, inverse_sampling(Gm_samp)))\\nprint(energy_distance(X_sampled, inverse_sampling(Vines_samp)))\\nprint(energy_distance(X_sampled, inverse_sampling(Mvn_samp)), \\\"\\\\n\\\")\\n\\nprint(energy_distance(X_not_sampled, Gm_Wsamp))\\nprint(energy_distance(X_not_sampled, Vines_Wsamp))\\nprint(energy_distance(X_not_sampled, Mvn_Wsamp))\";\n",
       "                var nbb_formatted_code = \"print(energy_distance(X_sampled, inverse_sampling(Gm_samp)))\\nprint(energy_distance(X_sampled, inverse_sampling(Vines_samp)))\\nprint(energy_distance(X_sampled, inverse_sampling(Mvn_samp)), \\\"\\\\n\\\")\\n\\nprint(energy_distance(X_not_sampled, Gm_Wsamp))\\nprint(energy_distance(X_not_sampled, Vines_Wsamp))\\nprint(energy_distance(X_not_sampled, Mvn_Wsamp))\";\n",
       "                var nbb_cells = Jupyter.notebook.get_cells();\n",
       "                for (var i = 0; i < nbb_cells.length; ++i) {\n",
       "                    if (nbb_cells[i].input_prompt_number == nbb_cell_id) {\n",
       "                        if (nbb_cells[i].get_text() == nbb_unformatted_code) {\n",
       "                             nbb_cells[i].set_text(nbb_formatted_code);\n",
       "                        }\n",
       "                        break;\n",
       "                    }\n",
       "                }\n",
       "            }, 500);\n",
       "            "
      ],
      "text/plain": [
       "<IPython.core.display.Javascript object>"
      ]
     },
     "metadata": {},
     "output_type": "display_data"
    }
   ],
   "source": [
    "print(energy_distance(X_sampled, inverse_sampling(Gm_samp)))\n",
    "print(energy_distance(X_sampled, inverse_sampling(Vines_samp)))\n",
    "print(energy_distance(X_sampled, inverse_sampling(Mvn_samp)), \"\\n\")\n",
    "\n",
    "print(energy_distance(X_not_sampled, Gm_Wsamp))\n",
    "print(energy_distance(X_not_sampled, Vines_Wsamp))\n",
    "print(energy_distance(X_not_sampled, Mvn_Wsamp))"
   ]
  },
  {
   "cell_type": "code",
   "execution_count": null,
   "id": "c49df173",
   "metadata": {},
   "outputs": [],
   "source": []
  }
 ],
 "metadata": {
  "kernelspec": {
   "display_name": "Python 3",
   "language": "python",
   "name": "python3"
  },
  "language_info": {
   "codemirror_mode": {
    "name": "ipython",
    "version": 3
   },
   "file_extension": ".py",
   "mimetype": "text/x-python",
   "name": "python",
   "nbconvert_exporter": "python",
   "pygments_lexer": "ipython3",
   "version": "3.9.4"
  }
 },
 "nbformat": 4,
 "nbformat_minor": 5
}
